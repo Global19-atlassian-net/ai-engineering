{
 "cells": [
  {
   "cell_type": "markdown",
   "metadata": {},
   "source": [
    "# Convolutional Neural Network in Keras"
   ]
  },
  {
   "cell_type": "markdown",
   "metadata": {},
   "source": [
    "Bulding a Convolutional Neural Network to classify Fashion-MNIST accessories."
   ]
  },
  {
   "cell_type": "markdown",
   "metadata": {},
   "source": [
    "#### Set seed for reproducibility"
   ]
  },
  {
   "cell_type": "code",
   "execution_count": 1,
   "metadata": {},
   "outputs": [],
   "source": [
    "import numpy as np\n",
    "np.random.seed(42)"
   ]
  },
  {
   "cell_type": "markdown",
   "metadata": {},
   "source": [
    "#### Load dependencies"
   ]
  },
  {
   "cell_type": "code",
   "execution_count": 2,
   "metadata": {},
   "outputs": [
    {
     "name": "stderr",
     "output_type": "stream",
     "text": [
      "/opt/conda/lib/python3.6/site-packages/h5py/__init__.py:36: FutureWarning: Conversion of the second argument of issubdtype from `float` to `np.floating` is deprecated. In future, it will be treated as `np.float64 == np.dtype(float).type`.\n",
      "  from ._conv import register_converters as _register_converters\n",
      "Using TensorFlow backend.\n"
     ]
    }
   ],
   "source": [
    "import os\n",
    "import keras\n",
    "from keras.datasets import fashion_mnist\n",
    "from keras.models import Sequential\n",
    "from keras.layers import Layer, Activation, Dense, Dropout, Conv2D, MaxPooling2D, Flatten, LeakyReLU, BatchNormalization\n",
    "from keras.callbacks import TensorBoard, ModelCheckpoint, EarlyStopping\n",
    "\n",
    "from keras import backend as K\n",
    "from keras.utils.generic_utils import get_custom_objects\n",
    "\n",
    "from keras_contrib.layers.advanced_activations import SineReLU"
   ]
  },
  {
   "cell_type": "markdown",
   "metadata": {},
   "source": [
    "#### Load data"
   ]
  },
  {
   "cell_type": "code",
   "execution_count": 3,
   "metadata": {},
   "outputs": [
    {
     "name": "stdout",
     "output_type": "stream",
     "text": [
      "Downloading data from http://fashion-mnist.s3-website.eu-central-1.amazonaws.com/train-labels-idx1-ubyte.gz\n",
      "32768/29515 [=================================] - 0s 4us/step\n",
      "Downloading data from http://fashion-mnist.s3-website.eu-central-1.amazonaws.com/train-images-idx3-ubyte.gz\n",
      "26427392/26421880 [==============================] - 4s 0us/step\n",
      "Downloading data from http://fashion-mnist.s3-website.eu-central-1.amazonaws.com/t10k-labels-idx1-ubyte.gz\n",
      "8192/5148 [===============================================] - 0s 0us/step\n",
      "Downloading data from http://fashion-mnist.s3-website.eu-central-1.amazonaws.com/t10k-images-idx3-ubyte.gz\n",
      "4423680/4422102 [==============================] - 2s 0us/step\n"
     ]
    }
   ],
   "source": [
    "(X_train, y_train), (X_test, y_test) = fashion_mnist.load_data()"
   ]
  },
  {
   "cell_type": "markdown",
   "metadata": {},
   "source": [
    "#### Preprocess data\n",
    "Flatten and normalise input data."
   ]
  },
  {
   "cell_type": "code",
   "execution_count": 4,
   "metadata": {},
   "outputs": [],
   "source": [
    "X_train = X_train.reshape(-1, 28, 28, 1)\n",
    "X_test = X_test.reshape(-1, 28, 28, 1)\n",
    "\n",
    "X_train = X_train.astype(\"float32\")/255.\n",
    "X_test = X_test.astype(\"float32\")/255."
   ]
  },
  {
   "cell_type": "code",
   "execution_count": 5,
   "metadata": {},
   "outputs": [],
   "source": [
    "# One-hot encoded categories\n",
    "n_classes = 10\n",
    "y_train = keras.utils.to_categorical(y_train, n_classes)\n",
    "y_test = keras.utils.to_categorical(y_test, n_classes)"
   ]
  },
  {
   "cell_type": "markdown",
   "metadata": {},
   "source": [
    "#### Test Predictions"
   ]
  },
  {
   "cell_type": "code",
   "execution_count": 6,
   "metadata": {},
   "outputs": [],
   "source": [
    "model_output = 'model_output/weights-cnn-fashion-mnist.hdf5'\n",
    "saved_model = keras.models.load_model(model_output)"
   ]
  },
  {
   "cell_type": "markdown",
   "metadata": {},
   "source": [
    "#### Test Final Accuracy"
   ]
  },
  {
   "cell_type": "code",
   "execution_count": 7,
   "metadata": {},
   "outputs": [
    {
     "name": "stdout",
     "output_type": "stream",
     "text": [
      "10000/10000 [==============================] - 28s 3ms/step\n",
      "Final loss: 0.2991, final accuracy: 0.8875\n"
     ]
    }
   ],
   "source": [
    "final_loss, final_acc = saved_model.evaluate(X_test, y_test, verbose = 1)\n",
    "print(\"Final loss: {0:.4f}, final accuracy: {1:.4f}\".format(final_loss, final_acc))"
   ]
  },
  {
   "cell_type": "markdown",
   "metadata": {},
   "source": [
    "#### Log model and metrics in MLFlow"
   ]
  },
  {
   "cell_type": "code",
   "execution_count": 8,
   "metadata": {},
   "outputs": [
    {
     "name": "stdout",
     "output_type": "stream",
     "text": [
      "|1|uvV5+M7H1MUNPlwDr1H8CraFsB4=|9XhBYy77L95tdvjb2J8ZwerQ628= ssh-ed25519 AAAAC3NzaC1lZDI1NTE5AAAAICoUZuEqW0rbK+8f4mNpsGgeJYulGTHkYB3com6YWEE7\n",
      "|1|Kw8J908J86S90tB/394KQY5+KR0=|zBVjyXKHiJ/iPNTiuLBEEroWt00= ssh-rsa AAAAB3NzaC1yc2EAAAADAQABAAACAQCslZ7pp0imLQ7HUFM3sU10xBbnk9CFBRtO/6ZO9IuJGGlTmd46zV3nUq3lvJKGVMq7GsfJbunsHa7acVTXr5GFPhZjcMK4N89Q/GxepwljO77GHwKKLctPAqNX1aEMgjoZUOAbzAJ+EFNbSHRIVhZE5iDa6wFcqyOYIx6TlGCzRb22xUcJbQ8Wkeehfz1X7Pw2HHSS8yrUF+zyCI8+7n0GVHj1T5cj6Ainh3626u4k4Fvo7kWScv/vFGYM86PQZHtZ/HDeWNO+vjnNrNNGbKL2UKPfcNLDz6Pp3ll1oxyz5Qc6VF7aH1tXO8xLaHclETXIMgKyBLp1TxeCbF3++OrA2TjPGK46y0yYdihmC6wGWhJyjXfUz+quLgH7rCyMXVSWSdvYWd1ePRPXjvGz9mwqZpSg7qW68+6fiOc1r+nByuPAUFxdS3lAKwdqQeA+FBOYto0mSC71f0golHXonaVpn6bBvxfHBGBK/14nbLPmscjgM6Z+6Pfrlpm0Cp7lwgY/cEsWwXiIMfdJ419UOgVgG9pWg8oKIP9H1acESWUnVt+6Hl/ExkZE1x0XDyoAm1mLpRRvDuA2UCCVDFHtzrJ0tZKdwa7ufDJK5mKVn8pzSvVYQ5PkNiQhdGQPczqyG6PWLMKeEyPj/f75LtRl9/wnKWlDtUH12fVwHeEXbWTcIQ==\n"
     ]
    }
   ],
   "source": [
    "# If it doesn't show anything is because you forgot to copy the known_hosts. Please read the README again and make sure something sensible appears here.\n",
    "!cat ~/.ssh/known_hosts"
   ]
  },
  {
   "cell_type": "code",
   "execution_count": 9,
   "metadata": {},
   "outputs": [],
   "source": [
    "import mlflow\n",
    "import mlflow.keras\n",
    "\n",
    "mlflow.tracking.set_tracking_uri('http://ekholabs-mlflow-server:5500')\n",
    "\n",
    "with mlflow.start_run(experiment_id=1, source_version='0.0.1') as run:\n",
    "    mlflow.log_param(key='backend', value='tensorflow')\n",
    "    mlflow.log_param(key='backend_version', value='1.10.0')\n",
    "    mlflow.log_metric('final_loss', final_loss)\n",
    "    mlflow.log_metric('final_accuracy', final_acc)\n",
    "    mlflow.log_artifact(model_output)\n"
   ]
  },
  {
   "cell_type": "code",
   "execution_count": null,
   "metadata": {},
   "outputs": [],
   "source": []
  }
 ],
 "metadata": {
  "kernelspec": {
   "display_name": "Python 3",
   "language": "python",
   "name": "python3"
  },
  "language_info": {
   "codemirror_mode": {
    "name": "ipython",
    "version": 3
   },
   "file_extension": ".py",
   "mimetype": "text/x-python",
   "name": "python",
   "nbconvert_exporter": "python",
   "pygments_lexer": "ipython3",
   "version": "3.6.7"
  }
 },
 "nbformat": 4,
 "nbformat_minor": 2
}
